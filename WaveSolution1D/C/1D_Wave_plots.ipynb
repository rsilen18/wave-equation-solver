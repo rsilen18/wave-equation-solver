{
 "cells": [
  {
   "cell_type": "code",
   "execution_count": 1,
   "metadata": {},
   "outputs": [],
   "source": [
    "import pandas as pd\n",
    "import matplotlib.pyplot as plt"
   ]
  },
  {
   "cell_type": "code",
   "execution_count": 8,
   "metadata": {},
   "outputs": [],
   "source": [
    "# set up lists for convergence study\n",
    "h = [.1, .02, .01, .002, .001]\n",
    "errors = [0,0,0,0,0]"
   ]
  },
  {
   "cell_type": "code",
   "execution_count": 25,
   "metadata": {},
   "outputs": [],
   "source": [
    "# load data for n=10\n",
    "data = pd.read_csv('icase1_1d_10.csv')\n",
    "exact = pd.read_csv('exact1d_10.csv')\n",
    "u_10 = data['u']\n",
    "u_10_exact = exact['u']\n",
    "errors[0] = max(abs(u_10-u_10_exact))"
   ]
  },
  {
   "cell_type": "code",
   "execution_count": 26,
   "metadata": {},
   "outputs": [],
   "source": [
    "# load data for n=50\n",
    "data = pd.read_csv('icase1_1d_50.csv')\n",
    "exact = pd.read_csv('exact1d_50.csv')\n",
    "u_50 = data['u']\n",
    "u_50_exact = exact['u']\n",
    "errors[1] = max(abs(u_50-u_50_exact))"
   ]
  },
  {
   "cell_type": "code",
   "execution_count": 27,
   "metadata": {},
   "outputs": [],
   "source": [
    "# load data for n=100\n",
    "data = pd.read_csv('icase1_1d_100.csv')\n",
    "exact = pd.read_csv('exact1d_100.csv')\n",
    "u_100 = data['u']\n",
    "u_100_exact = exact['u']\n",
    "errors[2] = max(abs(u_100-u_100_exact))"
   ]
  },
  {
   "cell_type": "code",
   "execution_count": 28,
   "metadata": {},
   "outputs": [],
   "source": [
    "# load data for n=500\n",
    "data = pd.read_csv('icase1_1d_500.csv')\n",
    "exact = pd.read_csv('exact1d_500.csv')\n",
    "u_500 = data['u']\n",
    "u_500_exact = exact['u']\n",
    "errors[3] = max(abs(u_500-u_500_exact))"
   ]
  },
  {
   "cell_type": "code",
   "execution_count": 29,
   "metadata": {},
   "outputs": [],
   "source": [
    "# load data for n=1000\n",
    "data = pd.read_csv('icase1_1d_1000.csv')\n",
    "exact = pd.read_csv('exact1d_1000.csv')\n",
    "u_1000 = data['u']\n",
    "u_1000_exact = exact['u']\n",
    "errors[4] = max(abs(u_1000-u_1000_exact))"
   ]
  },
  {
   "cell_type": "code",
   "execution_count": 30,
   "metadata": {},
   "outputs": [
    {
     "data": {
      "text/plain": [
       "<matplotlib.legend.Legend at 0x290eae305c0>"
      ]
     },
     "execution_count": 30,
     "metadata": {},
     "output_type": "execute_result"
    },
    {
     "data": {
      "image/png": "[encoded data removed]",
      "text/plain": [
       "<Figure size 432x288 with 1 Axes>"
      ]
     },
     "metadata": {
      "needs_background": "light"
     },
     "output_type": "display_data"
    }
   ],
   "source": [
    "# Plot errors vs h^p on log-log plot\n",
    "p = 6 # degree of convergence -> line\n",
    "hp = [x**p for x in h]\n",
    "plt.loglog(h,hp)\n",
    "plt.loglog(h,errors,'ro')\n",
    "plt.xlabel('h')\n",
    "plt.ylabel('error')\n",
    "plt.title('Truncation Error')\n",
    "str1 = \"h^\" + str(p)\n",
    "plt.legend([str1,'error'])"
   ]
  },
  {
   "cell_type": "code",
   "execution_count": 10,
   "metadata": {},
   "outputs": [
    {
     "data": {
      "text/html": [
       "<div>\n",
       "<style scoped>\n",
       "    .dataframe tbody tr th:only-of-type {\n",
       "        vertical-align: middle;\n",
       "    }\n",
       "\n",
       "    .dataframe tbody tr th {\n",
       "        vertical-align: top;\n",
       "    }\n",
       "\n",
       "    .dataframe thead th {\n",
       "        text-align: right;\n",
       "    }\n",
       "</style>\n",
       "<table border=\"1\" class=\"dataframe\">\n",
       "  <thead>\n",
       "    <tr style=\"text-align: right;\">\n",
       "      <th></th>\n",
       "      <th>x</th>\n",
       "      <th>u</th>\n",
       "    </tr>\n",
       "  </thead>\n",
       "  <tbody>\n",
       "    <tr>\n",
       "      <th>0</th>\n",
       "      <td>0.000000</td>\n",
       "      <td>1.298000e-13</td>\n",
       "    </tr>\n",
       "    <tr>\n",
       "      <th>1</th>\n",
       "      <td>0.004712</td>\n",
       "      <td>-1.390387e-03</td>\n",
       "    </tr>\n",
       "    <tr>\n",
       "      <th>2</th>\n",
       "      <td>0.009425</td>\n",
       "      <td>-2.780744e-03</td>\n",
       "    </tr>\n",
       "    <tr>\n",
       "      <th>3</th>\n",
       "      <td>0.014137</td>\n",
       "      <td>-4.171038e-03</td>\n",
       "    </tr>\n",
       "    <tr>\n",
       "      <th>4</th>\n",
       "      <td>0.018850</td>\n",
       "      <td>-5.561240e-03</td>\n",
       "    </tr>\n",
       "  </tbody>\n",
       "</table>\n",
       "</div>"
      ],
      "text/plain": [
       "          x             u\n",
       "0  0.000000  1.298000e-13\n",
       "1  0.004712 -1.390387e-03\n",
       "2  0.009425 -2.780744e-03\n",
       "3  0.014137 -4.171038e-03\n",
       "4  0.018850 -5.561240e-03"
      ]
     },
     "execution_count": 10,
     "metadata": {},
     "output_type": "execute_result"
    }
   ],
   "source": [
    "data.head()"
   ]
  },
  {
   "cell_type": "code",
   "execution_count": null,
   "metadata": {},
   "outputs": [],
   "source": []
  }
 ],
 "metadata": {
  "kernelspec": {
   "display_name": "Python 3",
   "language": "python",
   "name": "python3"
  },
  "language_info": {
   "codemirror_mode": {
    "name": "ipython",
    "version": 3
   },
   "file_extension": ".py",
   "mimetype": "text/x-python",
   "name": "python",
   "nbconvert_exporter": "python",
   "pygments_lexer": "ipython3",
   "version": "3.7.3"
  }
 },
 "nbformat": 4,
 "nbformat_minor": 2
}
